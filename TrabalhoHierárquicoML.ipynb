{
  "nbformat": 4,
  "nbformat_minor": 0,
  "metadata": {
    "colab": {
      "name": " TrabalhoHierárquicoML.ipynb",
      "provenance": [],
      "collapsed_sections": [],
      "mount_file_id": "1TUYn8ZJUJoWhmNWW24t4KtcPaZn1iswC",
      "authorship_tag": "ABX9TyP2AGkf9/J03CchT2bCYS7Y",
      "include_colab_link": true
    },
    "kernelspec": {
      "name": "python3",
      "display_name": "Python 3"
    },
    "language_info": {
      "name": "python"
    }
  },
  "cells": [
    {
      "cell_type": "markdown",
      "metadata": {
        "id": "view-in-github",
        "colab_type": "text"
      },
      "source": [
        "<a href=\"https://colab.research.google.com/github/YgorGabriel99/algoritmoHieraquico/blob/main/TrabalhoHier%C3%A1rquicoML.ipynb\" target=\"_parent\"><img src=\"https://colab.research.google.com/assets/colab-badge.svg\" alt=\"Open In Colab\"/></a>"
      ]
    },
    {
      "cell_type": "code",
      "source": [
        "from google.colab import drive\n",
        "drive.mount('/content/drive')"
      ],
      "metadata": {
        "colab": {
          "base_uri": "https://localhost:8080/"
        },
        "id": "DAREd0mHmFGI",
        "outputId": "96c34cff-08c4-40d0-8e0d-e9aa243f98f7"
      },
      "execution_count": 2,
      "outputs": [
        {
          "output_type": "stream",
          "name": "stdout",
          "text": [
            "Drive already mounted at /content/drive; to attempt to forcibly remount, call drive.mount(\"/content/drive\", force_remount=True).\n"
          ]
        }
      ]
    },
    {
      "cell_type": "code",
      "source": [
        "#importando as bibliotecas utilizadas\n",
        "import numpy as np\n",
        "import pandas as pd\n",
        "import matplotlib as mpl\n",
        "import matplotlib.pyplot as plt\n",
        "import seaborn as sns\n",
        "from sklearn.model_selection import train_test_split\n",
        "from sklearn.discriminant_analysis import LinearDiscriminantAnalysis\n",
        "from sklearn.naive_bayes import GaussianNB\n",
        "import collections\n",
        "from sklearn.model_selection import KFold"
      ],
      "metadata": {
        "id": "cyCVsOxCKDh3"
      },
      "execution_count": 3,
      "outputs": []
    },
    {
      "cell_type": "code",
      "source": [
        "#define dataset\n",
        "dataset = pd.read_csv(\"/content/drive/MyDrive/lymphography.data.csv\", sep=';')\n"
      ],
      "metadata": {
        "id": "PO_xVd2TY8ec"
      },
      "execution_count": 4,
      "outputs": []
    },
    {
      "cell_type": "code",
      "source": [
        "\n",
        "#define labels and features\n",
        "label_names = [\"normal find\",\"metastases\",\"malign lymph\", \"fibrosis\"]\n",
        "labels = np.array(dataset['Class'])\n",
        "features = np.array(dataset.drop('Class', axis = 1))\n",
        "featuresGau = np.array(dataset.drop('Class', axis = 1))\n",
        "labelsGau = np.array(dataset['Class'])"
      ],
      "metadata": {
        "id": "v6x_kD9UMD3V"
      },
      "execution_count": 5,
      "outputs": []
    },
    {
      "cell_type": "code",
      "source": [
        "#classificação hierarquica com LDA\n",
        "def modeloLDA(features, labels):\n",
        "     \n",
        "    unique, counts = np.unique(labels, return_counts=True) \n",
        "    result = np.column_stack((unique, counts))\n",
        "    idx, maxNum = max(result, key=lambda item: item[1])\n",
        "  \n",
        "    newLabels = []\n",
        "    for i in labels:\n",
        "      \n",
        "      if(i == idx):\n",
        "          newLabels.append(idx)\n",
        "      else:\n",
        "         newLabels.append(0)\n",
        "  \n",
        "    orgLabels = []\n",
        "    restFeatures = []\n",
        "    k=5\n",
        "    random_seed = 28\n",
        "    splits=KFold(k, shuffle=True, random_state=random_seed)\n",
        "\n",
        "    newLabels = np.array(newLabels)\n",
        "    for i, (train, test) in enumerate(splits.split(np.arange(len(features)))):\n",
        "        certas = 0\n",
        "        todas = 0\n",
        "        \n",
        "        \n",
        "\n",
        "        X_train, X_test, y_train, y_test = features[train], features[test], newLabels[train], newLabels[test]\n",
        "        \n",
        "        model = LinearDiscriminantAnalysis()\n",
        "        model.fit(X_train, y_train)\n",
        "        pred= model.predict(X_test)\n",
        "        for j in range (len(test)):\n",
        "          \n",
        "          if(pred[j] == y_test[j]):\n",
        "              certas += 1\n",
        "          todas += 1\n",
        "          if(pred[j]== 0):\n",
        "             orgLabels.append(labels[test[j]])\n",
        "             restFeatures.append(features[test[j]]) \n",
        "        acuracia = (certas/todas)*100    \n",
        "       \n",
        "    print(\"acurácia %.2f\" %acuracia)   \n",
        "    print(\"restou\", len(orgLabels) ,\"exemplos \\n\" )  \n",
        "    if(len(orgLabels)>0):\n",
        "      restFeatures= np.array(restFeatures)\n",
        "      orgLabels= np.array(orgLabels)\n",
        "      modeloLDA(restFeatures, orgLabels)\n",
        "       "
      ],
      "metadata": {
        "id": "Xg3dyTqNpv06"
      },
      "execution_count": 6,
      "outputs": []
    },
    {
      "cell_type": "code",
      "source": [
        "modeloLDA(features, labels)\n",
        "\n",
        "    \n"
      ],
      "metadata": {
        "colab": {
          "base_uri": "https://localhost:8080/"
        },
        "id": "vgROpRkgWrHS",
        "outputId": "854943e2-83b1-4822-8962-e78ed21c5fd1"
      },
      "execution_count": 7,
      "outputs": [
        {
          "output_type": "stream",
          "name": "stdout",
          "text": [
            "acurácia 79.31\n",
            "restou 62 exemplos \n",
            "\n",
            "acurácia 91.67\n",
            "restou 11 exemplos \n",
            "\n",
            "acurácia 50.00\n",
            "restou 7 exemplos \n",
            "\n",
            "acurácia 0.00\n",
            "restou 5 exemplos \n",
            "\n",
            "acurácia 100.00\n",
            "restou 0 exemplos \n",
            "\n"
          ]
        }
      ]
    },
    {
      "cell_type": "code",
      "source": [
        "#classificação hierarquica com Gaussiana\n",
        "def modeloGaussiana(features, labels):    \n",
        "    unique, counts = np.unique(labels, return_counts=True) \n",
        "    result = np.column_stack((unique, counts))\n",
        "    idx, maxNum = max(result, key=lambda item: item[1])\n",
        "  \n",
        "    newLabels = []\n",
        "    for i in labels:\n",
        "      \n",
        "      if(i == idx):\n",
        "          newLabels.append(idx)\n",
        "      else:\n",
        "         newLabels.append(0)\n",
        "    orgLabels = []\n",
        "    restFeatures = []\n",
        "    k=5\n",
        "    random_seed = 28\n",
        "    splits=KFold(k, shuffle=True, random_state=random_seed)\n",
        "    newLabels = np.array(newLabels)\n",
        "    for i, (train, test) in enumerate(splits.split(np.arange(len(features)))):\n",
        "        certas = 0\n",
        "        todas = 0\n",
        "\n",
        "        X_train, X_test, y_train, y_test = features[train], features[test], newLabels[train], newLabels[test]\n",
        "        \n",
        "        model = GaussianNB()\n",
        "        model.fit(X_train, y_train)\n",
        "        pred= model.predict(X_test)\n",
        "        for j in range (len(test)):\n",
        "   \n",
        "          if(pred[j] == y_test[j]):\n",
        "              certas += 1\n",
        "          todas += 1\n",
        "          if(pred[j]== 0):\n",
        "             orgLabels.append(labels[test[j]])\n",
        "             restFeatures.append(features[test[j]]) \n",
        "        acuracia = (certas/todas)*100    \n",
        "     \n",
        "    print(\"acurácia %.2f\" %acuracia)   \n",
        "    print(\"restou\", len(orgLabels) ,\"exemplos \\n\" )  \n",
        "    if(len(orgLabels)>1):\n",
        "      restFeatures= np.array(restFeatures)\n",
        "      orgLabels= np.array(orgLabels)\n",
        "      modeloGaussiana(restFeatures, orgLabels)\n",
        "       "
      ],
      "metadata": {
        "id": "rbnnoH57IF67"
      },
      "execution_count": 8,
      "outputs": []
    },
    {
      "cell_type": "code",
      "source": [
        "modeloGaussiana(featuresGau, labelsGau)\n"
      ],
      "metadata": {
        "colab": {
          "base_uri": "https://localhost:8080/"
        },
        "id": "-JSvNGYR7zP3",
        "outputId": "dc1d1227-e5f0-4149-b3a9-c634777cbba1"
      },
      "execution_count": 9,
      "outputs": [
        {
          "output_type": "stream",
          "name": "stdout",
          "text": [
            "acurácia 86.21\n",
            "restou 40 exemplos \n",
            "\n",
            "acurácia 100.00\n",
            "restou 10 exemplos \n",
            "\n",
            "acurácia 0.00\n",
            "restou 6 exemplos \n",
            "\n",
            "acurácia 0.00\n",
            "restou 1 exemplos \n",
            "\n"
          ]
        }
      ]
    }
  ]
}